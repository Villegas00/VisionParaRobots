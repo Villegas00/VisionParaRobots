{
  "nbformat": 4,
  "nbformat_minor": 0,
  "metadata": {
    "colab": {
      "provenance": []
    },
    "kernelspec": {
      "name": "python3",
      "display_name": "Python 3"
    },
    "language_info": {
      "name": "python"
    }
  },
  "cells": [
    {
      "cell_type": "code",
      "execution_count": 45,
      "metadata": {
        "id": "qePticvDUWUE"
      },
      "outputs": [],
      "source": [
        "import numpy as np \n",
        "import matplotlib.pyplot as plt \n",
        "import matplotlib.image as mpimg \n",
        "import cv2\n",
        "import numpy as np\n",
        "from skimage.color import rgb2gray\n",
        "\n",
        "from skimage.morphology import (square, rectangle, diamond, disk)"
      ]
    },
    {
      "cell_type": "code",
      "source": [
        "def imagen(dir_imagen):\n",
        "  img = mpimg.imread(dir_imagen,0)\n",
        "  plt.figure()\n",
        "  img = 255*rgb2gray(img)\n",
        "  \n",
        "  return img"
      ],
      "metadata": {
        "id": "zakLCcX6XKVi"
      },
      "execution_count": 46,
      "outputs": []
    },
    {
      "cell_type": "code",
      "source": [
        "def morphoper(I,o_m, e_e):\n",
        "  rowsImg = I.shape[0]\n",
        "  colsImg = I.shape[1]\n",
        "  \n",
        "  if(e_e == 'line'):\n",
        "    w= rectangle(3,1,dtype=np.uint8)\n",
        "  elif(e_e == 'square'):\n",
        "    w= square(3,dtype=np.uint8)\n",
        "  elif(e_e == 'diamond'):\n",
        "    w= diamond(5,dtype=np.uint8)\n",
        "  elif(e_e == 'disk'):\n",
        "    w= disk(3,dtype=np.uint8)   \n",
        "    \n",
        "  if(o_m == 'erode'):\n",
        "    rowsKernel=w[0]\n",
        "    colsKernel=w[1]\n",
        "    rowsPadding = int((rowsKernel-1)//2)\n",
        "    colsPadding = int((colsKernel-1)//2)\n",
        "\n",
        "    imgPadded = np.zeros((rowsImg+ 2*rowsPadding, colsImg + 2*colsPadding))\n",
        "    imgPadded[rowsPadding: rowsImg +rowsPadding, colsPadding: colsImg+colsPadding]=I\n",
        "    rowsImgOut = int(rowsImg - rowsKernel + 2* rowsPadding +1)\n",
        "    colsImgOut = int(colsImg - colsKernel + 2* colsPadding +1)\n",
        "    imgErode = np.zeros((rowsImgOut, colsImgOut),dtype=np.uint8)\n",
        "\n",
        "    for i in range(rowsPadding,rowsImg-rowsPadding):\n",
        "      for j in range(colsPadding,colsImg-colsPadding):\n",
        "        imgPatch=imgErode[i-rowsPadding:i+rowsKernel-rowsPadding, j-colsPadding:j+colsKernel-colsPadding]\n",
        "        imgErode[i,j]= np.min(imgPatch*w)\n",
        "    return imgErode\n",
        "\n",
        "  elif(o_m == 'dilate'):\n",
        "      rowsKernel=w[0]\n",
        "      colsKernel=w[1]\n",
        "      rowsPadding = int((rowsKernel-1)//2)\n",
        "      colsPadding = int((colsKernel-1)//2)\n",
        "\n",
        "      imgDilate = np.zeros((rowsImg, colsImg),dtype=np.uint8)\n",
        "\n",
        "      for i in range(rowsPadding,rowsImg-rowsPadding):\n",
        "        for j in range(colsPadding,colsImg-colsPadding):\n",
        "          imgPatch=imgDilate[i-rowsPadding:i+rowsKernel-rowsPadding, j-colsPadding:j+colsKernel-colsPadding]\n",
        "          imgDilate[i,j]= np.max(imgPatch*w)\n",
        "      return imgDilate\n",
        "\n",
        "  elif(o_m == 'open'):\n",
        "    rowsKernel=w[0]\n",
        "    colsKernel=w[1]\n",
        "    rowsPadding = int((rowsKernel-1)//2)\n",
        "    colsPadding = int((colsKernel-1)//2)\n",
        "\n",
        "    imgOpen = np.zeros((rowsImg, colsImg),dtype=np.uint8)\n",
        "\n",
        "    for i in range(rowsPadding,rowsImg-rowsPadding):\n",
        "      for j in range(colsPadding,colsImg-colsPadding):\n",
        "        imgPatch=imgOpen[i-rowsPadding:i+rowsKernel-rowsPadding, j-colsPadding:j+colsKernel-colsPadding]\n",
        "        imgOpen[i,j]= np.min(imgPatch*w)\n",
        "\n",
        "    for i in range(rowsPadding,rowsImg-rowsPadding):\n",
        "      for j in range(colsPadding,colsImg-colsPadding):\n",
        "        imgPatch=imgOpen[i-rowsPadding:i+rowsKernel-rowsPadding, j-colsPadding:j+colsKernel-colsPadding]\n",
        "        imgOpen[i,j]= np.max(imgPatch*w)\n",
        "    return imgOpen\n",
        "\n",
        "  elif(o_m == 'close'):\n",
        "        rowsKernel=w[0]\n",
        "        colsKernel=w[1]\n",
        "        rowsPadding = int((rowsKernel-1)//2)\n",
        "        colsPadding = int((colsKernel-1)//2)\n",
        "\n",
        "        imgClose = np.zeros((rowsImg, colsImg),dtype=np.uint8)\n",
        "\n",
        "        for i in range(rowsPadding,rowsImg-rowsPadding):\n",
        "          for j in range(colsPadding,colsImg-colsPadding):\n",
        "            imgPatch=imgClose[i-rowsPadding:i+rowsKernel-rowsPadding, j-colsPadding:j+colsKernel-colsPadding]\n",
        "            imgClose[i,j]= np.max(imgPatch*w)\n",
        "\n",
        "        for i in range(rowsPadding,rowsImg-rowsPadding):\n",
        "          for j in range(colsPadding,colsImg-colsPadding):\n",
        "            imgPatch=imgClose[i-rowsPadding:i+rowsKernel-rowsPadding, j-colsPadding:j+colsKernel-colsPadding]\n",
        "            imgClose[i,j]= np.min(imgPatch*w)\n",
        "        return imgClose \n",
        "\n",
        "  \n"
      ],
      "metadata": {
        "id": "BNuZ-kUYdZxJ"
      },
      "execution_count": 63,
      "outputs": []
    },
    {
      "cell_type": "code",
      "source": [
        "dir_img = r'/content/sample_data/pattern01.bmp' #Para correr de manera local, modificar esta linea; ya que esta direccion de la imagen es dada por Google Colab\n",
        "I = cv2.imread(dir_img)\n",
        "plt.imshow(I, cmap = 'gray') \n",
        "plt.axis('off')"
      ],
      "metadata": {
        "colab": {
          "base_uri": "https://localhost:8080/",
          "height": 424
        },
        "id": "8U2OxMPwfLO8",
        "outputId": "52379350-7c62-4aed-cf80-1638ff41c681"
      },
      "execution_count": 67,
      "outputs": [
        {
          "output_type": "execute_result",
          "data": {
            "text/plain": [
              "(-0.5, 449.5, 449.5, -0.5)"
            ]
          },
          "metadata": {},
          "execution_count": 67
        },
        {
          "output_type": "display_data",
          "data": {
            "text/plain": [
              "<Figure size 640x480 with 1 Axes>"
            ],
            "image/png": "[encoded data removed]"
          },
          "metadata": {}
        }
      ]
    },
    {
      "cell_type": "code",
      "source": [
        "output=morphoper(I,'square','erode')\n",
        "plt.imshow(output, cmap='gray')\n",
        "plt.axis('off')\n",
        "plt.show()"
      ],
      "metadata": {
        "colab": {
          "base_uri": "https://localhost:8080/",
          "height": 790
        },
        "id": "XlGGaPDtmR1G",
        "outputId": "d6ea6acf-f6e2-4f4d-dfad-685ffcc32320"
      },
      "execution_count": 69,
      "outputs": [
        {
          "output_type": "error",
          "ename": "TypeError",
          "evalue": "ignored",
          "traceback": [
            "\u001b[0;31m---------------------------------------------------------------------------\u001b[0m",
            "\u001b[0;31mTypeError\u001b[0m                                 Traceback (most recent call last)",
            "\u001b[0;32m<ipython-input-69-d568a184eba0>\u001b[0m in \u001b[0;36m<cell line: 2>\u001b[0;34m()\u001b[0m\n\u001b[1;32m      1\u001b[0m \u001b[0moutput\u001b[0m\u001b[0;34m=\u001b[0m\u001b[0mmorphoper\u001b[0m\u001b[0;34m(\u001b[0m\u001b[0mI\u001b[0m\u001b[0;34m,\u001b[0m\u001b[0;34m'square'\u001b[0m\u001b[0;34m,\u001b[0m\u001b[0;34m'erode'\u001b[0m\u001b[0;34m)\u001b[0m\u001b[0;34m\u001b[0m\u001b[0;34m\u001b[0m\u001b[0m\n\u001b[0;32m----> 2\u001b[0;31m \u001b[0mplt\u001b[0m\u001b[0;34m.\u001b[0m\u001b[0mimshow\u001b[0m\u001b[0;34m(\u001b[0m\u001b[0moutput\u001b[0m\u001b[0;34m,\u001b[0m \u001b[0mcmap\u001b[0m\u001b[0;34m=\u001b[0m\u001b[0;34m'gray'\u001b[0m\u001b[0;34m)\u001b[0m\u001b[0;34m\u001b[0m\u001b[0;34m\u001b[0m\u001b[0m\n\u001b[0m\u001b[1;32m      3\u001b[0m \u001b[0mplt\u001b[0m\u001b[0;34m.\u001b[0m\u001b[0maxis\u001b[0m\u001b[0;34m(\u001b[0m\u001b[0;34m'off'\u001b[0m\u001b[0;34m)\u001b[0m\u001b[0;34m\u001b[0m\u001b[0;34m\u001b[0m\u001b[0m\n\u001b[1;32m      4\u001b[0m \u001b[0mplt\u001b[0m\u001b[0;34m.\u001b[0m\u001b[0mshow\u001b[0m\u001b[0;34m(\u001b[0m\u001b[0;34m)\u001b[0m\u001b[0;34m\u001b[0m\u001b[0;34m\u001b[0m\u001b[0m\n",
            "\u001b[0;32m/usr/local/lib/python3.9/dist-packages/matplotlib/pyplot.py\u001b[0m in \u001b[0;36mimshow\u001b[0;34m(X, cmap, norm, aspect, interpolation, alpha, vmin, vmax, origin, extent, interpolation_stage, filternorm, filterrad, resample, url, data, **kwargs)\u001b[0m\n\u001b[1;32m   2693\u001b[0m         \u001b[0minterpolation_stage\u001b[0m\u001b[0;34m=\u001b[0m\u001b[0;32mNone\u001b[0m\u001b[0;34m,\u001b[0m \u001b[0mfilternorm\u001b[0m\u001b[0;34m=\u001b[0m\u001b[0;32mTrue\u001b[0m\u001b[0;34m,\u001b[0m \u001b[0mfilterrad\u001b[0m\u001b[0;34m=\u001b[0m\u001b[0;36m4.0\u001b[0m\u001b[0;34m,\u001b[0m\u001b[0;34m\u001b[0m\u001b[0;34m\u001b[0m\u001b[0m\n\u001b[1;32m   2694\u001b[0m         resample=None, url=None, data=None, **kwargs):\n\u001b[0;32m-> 2695\u001b[0;31m     __ret = gca().imshow(\n\u001b[0m\u001b[1;32m   2696\u001b[0m         \u001b[0mX\u001b[0m\u001b[0;34m,\u001b[0m \u001b[0mcmap\u001b[0m\u001b[0;34m=\u001b[0m\u001b[0mcmap\u001b[0m\u001b[0;34m,\u001b[0m \u001b[0mnorm\u001b[0m\u001b[0;34m=\u001b[0m\u001b[0mnorm\u001b[0m\u001b[0;34m,\u001b[0m \u001b[0maspect\u001b[0m\u001b[0;34m=\u001b[0m\u001b[0maspect\u001b[0m\u001b[0;34m,\u001b[0m\u001b[0;34m\u001b[0m\u001b[0;34m\u001b[0m\u001b[0m\n\u001b[1;32m   2697\u001b[0m         \u001b[0minterpolation\u001b[0m\u001b[0;34m=\u001b[0m\u001b[0minterpolation\u001b[0m\u001b[0;34m,\u001b[0m \u001b[0malpha\u001b[0m\u001b[0;34m=\u001b[0m\u001b[0malpha\u001b[0m\u001b[0;34m,\u001b[0m \u001b[0mvmin\u001b[0m\u001b[0;34m=\u001b[0m\u001b[0mvmin\u001b[0m\u001b[0;34m,\u001b[0m\u001b[0;34m\u001b[0m\u001b[0;34m\u001b[0m\u001b[0m\n",
            "\u001b[0;32m/usr/local/lib/python3.9/dist-packages/matplotlib/__init__.py\u001b[0m in \u001b[0;36minner\u001b[0;34m(ax, data, *args, **kwargs)\u001b[0m\n\u001b[1;32m   1440\u001b[0m     \u001b[0;32mdef\u001b[0m \u001b[0minner\u001b[0m\u001b[0;34m(\u001b[0m\u001b[0max\u001b[0m\u001b[0;34m,\u001b[0m \u001b[0;34m*\u001b[0m\u001b[0margs\u001b[0m\u001b[0;34m,\u001b[0m \u001b[0mdata\u001b[0m\u001b[0;34m=\u001b[0m\u001b[0;32mNone\u001b[0m\u001b[0;34m,\u001b[0m \u001b[0;34m**\u001b[0m\u001b[0mkwargs\u001b[0m\u001b[0;34m)\u001b[0m\u001b[0;34m:\u001b[0m\u001b[0;34m\u001b[0m\u001b[0;34m\u001b[0m\u001b[0m\n\u001b[1;32m   1441\u001b[0m         \u001b[0;32mif\u001b[0m \u001b[0mdata\u001b[0m \u001b[0;32mis\u001b[0m \u001b[0;32mNone\u001b[0m\u001b[0;34m:\u001b[0m\u001b[0;34m\u001b[0m\u001b[0;34m\u001b[0m\u001b[0m\n\u001b[0;32m-> 1442\u001b[0;31m             \u001b[0;32mreturn\u001b[0m \u001b[0mfunc\u001b[0m\u001b[0;34m(\u001b[0m\u001b[0max\u001b[0m\u001b[0;34m,\u001b[0m \u001b[0;34m*\u001b[0m\u001b[0mmap\u001b[0m\u001b[0;34m(\u001b[0m\u001b[0msanitize_sequence\u001b[0m\u001b[0;34m,\u001b[0m \u001b[0margs\u001b[0m\u001b[0;34m)\u001b[0m\u001b[0;34m,\u001b[0m \u001b[0;34m**\u001b[0m\u001b[0mkwargs\u001b[0m\u001b[0;34m)\u001b[0m\u001b[0;34m\u001b[0m\u001b[0;34m\u001b[0m\u001b[0m\n\u001b[0m\u001b[1;32m   1443\u001b[0m \u001b[0;34m\u001b[0m\u001b[0m\n\u001b[1;32m   1444\u001b[0m         \u001b[0mbound\u001b[0m \u001b[0;34m=\u001b[0m \u001b[0mnew_sig\u001b[0m\u001b[0;34m.\u001b[0m\u001b[0mbind\u001b[0m\u001b[0;34m(\u001b[0m\u001b[0max\u001b[0m\u001b[0;34m,\u001b[0m \u001b[0;34m*\u001b[0m\u001b[0margs\u001b[0m\u001b[0;34m,\u001b[0m \u001b[0;34m**\u001b[0m\u001b[0mkwargs\u001b[0m\u001b[0;34m)\u001b[0m\u001b[0;34m\u001b[0m\u001b[0;34m\u001b[0m\u001b[0m\n",
            "\u001b[0;32m/usr/local/lib/python3.9/dist-packages/matplotlib/axes/_axes.py\u001b[0m in \u001b[0;36mimshow\u001b[0;34m(self, X, cmap, norm, aspect, interpolation, alpha, vmin, vmax, origin, extent, interpolation_stage, filternorm, filterrad, resample, url, **kwargs)\u001b[0m\n\u001b[1;32m   5663\u001b[0m                               **kwargs)\n\u001b[1;32m   5664\u001b[0m \u001b[0;34m\u001b[0m\u001b[0m\n\u001b[0;32m-> 5665\u001b[0;31m         \u001b[0mim\u001b[0m\u001b[0;34m.\u001b[0m\u001b[0mset_data\u001b[0m\u001b[0;34m(\u001b[0m\u001b[0mX\u001b[0m\u001b[0;34m)\u001b[0m\u001b[0;34m\u001b[0m\u001b[0;34m\u001b[0m\u001b[0m\n\u001b[0m\u001b[1;32m   5666\u001b[0m         \u001b[0mim\u001b[0m\u001b[0;34m.\u001b[0m\u001b[0mset_alpha\u001b[0m\u001b[0;34m(\u001b[0m\u001b[0malpha\u001b[0m\u001b[0;34m)\u001b[0m\u001b[0;34m\u001b[0m\u001b[0;34m\u001b[0m\u001b[0m\n\u001b[1;32m   5667\u001b[0m         \u001b[0;32mif\u001b[0m \u001b[0mim\u001b[0m\u001b[0;34m.\u001b[0m\u001b[0mget_clip_path\u001b[0m\u001b[0;34m(\u001b[0m\u001b[0;34m)\u001b[0m \u001b[0;32mis\u001b[0m \u001b[0;32mNone\u001b[0m\u001b[0;34m:\u001b[0m\u001b[0;34m\u001b[0m\u001b[0;34m\u001b[0m\u001b[0m\n",
            "\u001b[0;32m/usr/local/lib/python3.9/dist-packages/matplotlib/image.py\u001b[0m in \u001b[0;36mset_data\u001b[0;34m(self, A)\u001b[0m\n\u001b[1;32m    699\u001b[0m         if (self._A.dtype != np.uint8 and\n\u001b[1;32m    700\u001b[0m                 not np.can_cast(self._A.dtype, float, \"same_kind\")):\n\u001b[0;32m--> 701\u001b[0;31m             raise TypeError(\"Image data of dtype {} cannot be converted to \"\n\u001b[0m\u001b[1;32m    702\u001b[0m                             \"float\".format(self._A.dtype))\n\u001b[1;32m    703\u001b[0m \u001b[0;34m\u001b[0m\u001b[0m\n",
            "\u001b[0;31mTypeError\u001b[0m: Image data of dtype object cannot be converted to float"
          ]
        },
        {
          "output_type": "display_data",
          "data": {
            "text/plain": [
              "<Figure size 640x480 with 1 Axes>"
            ],
            "image/png": "[encoded data removed]"
          },
          "metadata": {}
        }
      ]
    },
    {
      "cell_type": "code",
      "source": [
        "output=morphoper(I,'square','erode')\n",
        "plt.imshow(output, cmap='gray')\n",
        "plt.axis('off')\n",
        "plt.show()"
      ],
      "metadata": {
        "id": "YMlTMJ7e2YoD"
      },
      "execution_count": null,
      "outputs": []
    },
    {
      "cell_type": "code",
      "source": [
        "output=morphoper(I,'square','erode')\n",
        "plt.imshow(output, cmap='gray')\n",
        "plt.axis('off')\n",
        "plt.show()"
      ],
      "metadata": {
        "id": "ZhVDaJSq2bE7"
      },
      "execution_count": null,
      "outputs": []
    }
  ]
}